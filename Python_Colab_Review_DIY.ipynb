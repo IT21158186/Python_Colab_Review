{
  "nbformat": 4,
  "nbformat_minor": 0,
  "metadata": {
    "colab": {
      "provenance": [],
      "authorship_tag": "ABX9TyOo7vvnmTQpGesT4hNUfeqN",
      "include_colab_link": true
    },
    "kernelspec": {
      "name": "python3",
      "display_name": "Python 3"
    },
    "language_info": {
      "name": "python"
    }
  },
  "cells": [
    {
      "cell_type": "markdown",
      "metadata": {
        "id": "view-in-github",
        "colab_type": "text"
      },
      "source": [
        "<a href=\"https://colab.research.google.com/github/IT21158186/Python_Colab_Review/blob/main/Python_Colab_Review_DIY.ipynb\" target=\"_parent\"><img src=\"https://colab.research.google.com/assets/colab-badge.svg\" alt=\"Open In Colab\"/></a>"
      ]
    },
    {
      "cell_type": "code",
      "execution_count": 1,
      "metadata": {
        "id": "TyR88fLCEpCe"
      },
      "outputs": [],
      "source": [
        "import torch\n",
        "from torch import nn"
      ]
    },
    {
      "cell_type": "code",
      "source": [
        "x = 5\n",
        "y = 6\n",
        "x, y = 5, 6\n",
        "print(x)\n"
      ],
      "metadata": {
        "colab": {
          "base_uri": "https://localhost:8080/"
        },
        "id": "SXjIEqaMFkD3",
        "outputId": "e3827523-de20-4e5e-fb97-1e067cea28df"
      },
      "execution_count": 3,
      "outputs": [
        {
          "output_type": "stream",
          "name": "stdout",
          "text": [
            "5\n"
          ]
        }
      ]
    },
    {
      "cell_type": "code",
      "source": [
        "type(x)"
      ],
      "metadata": {
        "colab": {
          "base_uri": "https://localhost:8080/"
        },
        "id": "KvzaIwjJFz7j",
        "outputId": "ee907389-7de2-449a-f56e-3cb689930236"
      },
      "execution_count": 4,
      "outputs": [
        {
          "output_type": "execute_result",
          "data": {
            "text/plain": [
              "int"
            ]
          },
          "metadata": {},
          "execution_count": 4
        }
      ]
    },
    {
      "cell_type": "code",
      "source": [
        "def add_mult_2(a, b):\n",
        "  return 2*(a + b)"
      ],
      "metadata": {
        "id": "VkMvvcFGGGz5"
      },
      "execution_count": 5,
      "outputs": []
    },
    {
      "cell_type": "code",
      "source": [
        "add_mult_2(1,2)"
      ],
      "metadata": {
        "colab": {
          "base_uri": "https://localhost:8080/"
        },
        "id": "VB16pgX9GdGd",
        "outputId": "3d0ff9c3-40e5-4851-829c-e54e47815b15"
      },
      "execution_count": 8,
      "outputs": [
        {
          "output_type": "execute_result",
          "data": {
            "text/plain": [
              "6"
            ]
          },
          "metadata": {},
          "execution_count": 8
        }
      ]
    },
    {
      "cell_type": "code",
      "source": [
        "class Net(nn.Module):\n",
        "  def __init__(self, input_sz = 1):\n",
        "    super(Net, self).__init__()\n",
        "    self.layer = nn.Linear(input_sz, 1)\n",
        "    self.input_sz = input_sz\n",
        "\n",
        "  def forward(self, x):\n",
        "    x = self.layer(x)\n",
        "    return x"
      ],
      "metadata": {
        "id": "Nkp6y4zSGnaz"
      },
      "execution_count": 9,
      "outputs": []
    },
    {
      "cell_type": "code",
      "source": [
        "model = Net(input_sz=10)"
      ],
      "metadata": {
        "id": "2hCZGnmnIbtc"
      },
      "execution_count": 10,
      "outputs": []
    },
    {
      "cell_type": "code",
      "source": [
        "model2 = Net()"
      ],
      "metadata": {
        "id": "pQDjUkm2Im9M"
      },
      "execution_count": 11,
      "outputs": []
    },
    {
      "cell_type": "code",
      "source": [
        "input = torch.tensor(2.).unsqueeze(0)\n",
        "input"
      ],
      "metadata": {
        "colab": {
          "base_uri": "https://localhost:8080/"
        },
        "id": "nODd4KXrI0zA",
        "outputId": "8c162ce4-cebe-4f10-875f-02c46901d5c6"
      },
      "execution_count": 16,
      "outputs": [
        {
          "output_type": "execute_result",
          "data": {
            "text/plain": [
              "tensor([2.])"
            ]
          },
          "metadata": {},
          "execution_count": 16
        }
      ]
    },
    {
      "cell_type": "code",
      "source": [
        "model2.forward(input)"
      ],
      "metadata": {
        "colab": {
          "base_uri": "https://localhost:8080/"
        },
        "id": "6K5y-iZEIr6D",
        "outputId": "83c18282-e807-4c5d-f6eb-bfb92e014274"
      },
      "execution_count": 17,
      "outputs": [
        {
          "output_type": "execute_result",
          "data": {
            "text/plain": [
              "tensor([-1.5511], grad_fn=<ViewBackward0>)"
            ]
          },
          "metadata": {},
          "execution_count": 17
        }
      ]
    },
    {
      "cell_type": "code",
      "source": [
        "model2(input)"
      ],
      "metadata": {
        "colab": {
          "base_uri": "https://localhost:8080/"
        },
        "id": "Omxq8lu2JBhK",
        "outputId": "5f8db712-ed7d-4cca-bc40-e9488bba906d"
      },
      "execution_count": 18,
      "outputs": [
        {
          "output_type": "execute_result",
          "data": {
            "text/plain": [
              "tensor([-1.5511], grad_fn=<ViewBackward0>)"
            ]
          },
          "metadata": {},
          "execution_count": 18
        }
      ]
    },
    {
      "cell_type": "code",
      "source": [
        "for i in range(5):\n",
        "  print(i)"
      ],
      "metadata": {
        "colab": {
          "base_uri": "https://localhost:8080/"
        },
        "id": "WyVqeUuyJy3L",
        "outputId": "8effdf13-5157-4d6f-83ac-5d86c092e4c1"
      },
      "execution_count": 20,
      "outputs": [
        {
          "output_type": "stream",
          "name": "stdout",
          "text": [
            "0\n",
            "1\n",
            "2\n",
            "3\n",
            "4\n"
          ]
        }
      ]
    },
    {
      "cell_type": "code",
      "source": [
        "if (i < 2):\n",
        "  print('yes')\n",
        "else:\n",
        "  print('no')"
      ],
      "metadata": {
        "colab": {
          "base_uri": "https://localhost:8080/"
        },
        "id": "5XKI7_C1J9Ut",
        "outputId": "338b26cb-3dd8-48ca-ecda-e716350138c9"
      },
      "execution_count": 22,
      "outputs": [
        {
          "output_type": "stream",
          "name": "stdout",
          "text": [
            "no\n"
          ]
        }
      ]
    },
    {
      "cell_type": "code",
      "source": [
        "print('yes') if (i<2) else print('no')"
      ],
      "metadata": {
        "colab": {
          "base_uri": "https://localhost:8080/"
        },
        "id": "DzEEPSxBKG8g",
        "outputId": "f0bc928a-878a-45e9-fddd-0c9263507a12"
      },
      "execution_count": 23,
      "outputs": [
        {
          "output_type": "stream",
          "name": "stdout",
          "text": [
            "no\n"
          ]
        }
      ]
    },
    {
      "cell_type": "markdown",
      "source": [
        "# How to load a file"
      ],
      "metadata": {
        "id": "OGkjocagKq3x"
      }
    },
    {
      "cell_type": "code",
      "source": [
        "import urllib.request\n",
        "url = \"data:image/jpeg;base64,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\"\n",
        "urllib.request.urlretrieve(url, 'snake.jpg')"
      ],
      "metadata": {
        "colab": {
          "base_uri": "https://localhost:8080/"
        },
        "id": "2IOhRG7aKVQL",
        "outputId": "cf0ca7bd-3558-420d-9651-84251cc4da7b"
      },
      "execution_count": 27,
      "outputs": [
        {
          "output_type": "execute_result",
          "data": {
            "text/plain": [
              "('snake.jpg', <email.message.Message at 0x7e81ecf89870>)"
            ]
          },
          "metadata": {},
          "execution_count": 27
        }
      ]
    },
    {
      "cell_type": "code",
      "source": [],
      "metadata": {
        "id": "5GkHoUDZNhzN"
      },
      "execution_count": null,
      "outputs": []
    }
  ]
}